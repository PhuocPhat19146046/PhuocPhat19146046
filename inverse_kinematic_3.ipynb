{
  "nbformat": 4,
  "nbformat_minor": 0,
  "metadata": {
    "colab": {
      "name": "inverse_kinematic_3.ipynb",
      "provenance": [],
      "mount_file_id": "1Z9GF7BHeEwab54D1iPbu-sFu9Uz0BXV4",
      "authorship_tag": "ABX9TyNOyINP4AL5lwwYTEi2+yJU",
      "include_colab_link": true
    },
    "kernelspec": {
      "name": "python3",
      "display_name": "Python 3"
    },
    "language_info": {
      "name": "python"
    }
  },
  "cells": [
    {
      "cell_type": "markdown",
      "metadata": {
        "id": "view-in-github",
        "colab_type": "text"
      },
      "source": [
        "<a href=\"https://colab.research.google.com/github/PhuocPhat19146046/PhuocPhat19146046/blob/main/inverse_kinematic_3.ipynb\" target=\"_parent\"><img src=\"https://colab.research.google.com/assets/colab-badge.svg\" alt=\"Open In Colab\"/></a>"
      ]
    },
    {
      "cell_type": "code",
      "execution_count": null,
      "metadata": {
        "id": "CLfxSSPvXOga"
      },
      "outputs": [],
      "source": [
        "import numpy as np\n",
        "import pandas as pd\n",
        "pxy=[]\n",
        "angle=[]\n",
        "for i in range(0,360,1):\n",
        "  for j in range(0,180,1):\n",
        "    for k in [0,30,45,60]:\n",
        "      pxy.append([50*np.cos(i*np.pi/180)+40*np.cos((i+j)*np.pi/180)+20*np.cos((i+j)*np.pi/180),\n",
        "                  50*np.sin(i*np.pi/180)+40*np.sin((i+j)*np.pi/180)+20*np.sin((i+j)*np.pi/180)])\n",
        "      angle.append([i,j,k-i-j])\n",
        "x = pd.DataFrame(np.c_[pxy],columns=['Px','Py'])\n",
        "y = pd.DataFrame(np.c_[angle],columns=['tt1','tt2','tt3'])    \n",
        "from sklearn.model_selection import train_test_split\n",
        "x_train,x_test,y_train,y_test=train_test_split(x,y,test_size=0.1,shuffle=True)"
      ]
    },
    {
      "cell_type": "code",
      "source": [
        "from tensorflow.keras.optimizers import  SGD\n",
        "from keras.models import Sequential\n",
        "from keras.layers import Dense, Activation, Dropout, BatchNormalization, LSTM\n",
        "from tensorflow.keras.optimizers import RMSprop\n",
        "model = Sequential()\n",
        "model.add(Dense(512,kernel_initializer='normal',activation='relu',input_shape=(2,)))\n",
        "model.add(Dense(256,kernel_initializer='normal',activation='relu'))\n",
        "model.add(Dense(3))\n",
        "model.compile(optimizer=RMSprop(),loss='mse',metrics=['accuracy'])\n",
        "history = model.fit(x_train,y_train,batch_size=128,epochs=10,verbose=1,validation_split=0.2)"
      ],
      "metadata": {
        "colab": {
          "base_uri": "https://localhost:8080/"
        },
        "id": "MK2VZP3TaQ8r",
        "outputId": "e7e37394-1118-48b8-c5b2-3524402fbdfd"
      },
      "execution_count": null,
      "outputs": [
        {
          "output_type": "stream",
          "name": "stdout",
          "text": [
            "Epoch 1/10\n",
            "1458/1458 [==============================] - 12s 8ms/step - loss: 5620.0513 - accuracy: 0.8225 - val_loss: 1843.4857 - val_accuracy: 0.9087\n",
            "Epoch 2/10\n",
            "1458/1458 [==============================] - 12s 8ms/step - loss: 2035.9039 - accuracy: 0.9207 - val_loss: 1621.4281 - val_accuracy: 0.9423\n",
            "Epoch 3/10\n",
            "1458/1458 [==============================] - 13s 9ms/step - loss: 1656.6090 - accuracy: 0.9379 - val_loss: 1186.9852 - val_accuracy: 0.9401\n",
            "Epoch 4/10\n",
            "1458/1458 [==============================] - 15s 11ms/step - loss: 1438.2075 - accuracy: 0.9424 - val_loss: 1125.2679 - val_accuracy: 0.9584\n",
            "Epoch 5/10\n",
            "1458/1458 [==============================] - 11s 8ms/step - loss: 1331.9814 - accuracy: 0.9455 - val_loss: 1122.2611 - val_accuracy: 0.9606\n",
            "Epoch 6/10\n",
            "1458/1458 [==============================] - 14s 10ms/step - loss: 1238.2523 - accuracy: 0.9482 - val_loss: 1714.0991 - val_accuracy: 0.9441\n",
            "Epoch 7/10\n",
            "1458/1458 [==============================] - 10s 7ms/step - loss: 1151.3636 - accuracy: 0.9497 - val_loss: 789.0190 - val_accuracy: 0.9546\n",
            "Epoch 8/10\n",
            "1458/1458 [==============================] - 10s 7ms/step - loss: 1131.5657 - accuracy: 0.9518 - val_loss: 759.2236 - val_accuracy: 0.9558\n",
            "Epoch 9/10\n",
            "1458/1458 [==============================] - 10s 7ms/step - loss: 1071.1724 - accuracy: 0.9531 - val_loss: 830.4923 - val_accuracy: 0.9539\n",
            "Epoch 10/10\n",
            "1458/1458 [==============================] - 11s 7ms/step - loss: 1033.6643 - accuracy: 0.9544 - val_loss: 852.5699 - val_accuracy: 0.9595\n"
          ]
        }
      ]
    },
    {
      "cell_type": "code",
      "source": [
        "model.save('drive/MyDrive/Colab Notebooks/model/inverse_3.h5')"
      ],
      "metadata": {
        "id": "EP9-kEAZay5_"
      },
      "execution_count": null,
      "outputs": []
    },
    {
      "cell_type": "code",
      "source": [
        "from tensorflow.keras.models import load_model\n",
        "model_1=load_model('drive/MyDrive/Colab Notebooks/model/inverse_3.h5')"
      ],
      "metadata": {
        "id": "lIBdN2_sbEOd"
      },
      "execution_count": null,
      "outputs": []
    },
    {
      "cell_type": "code",
      "source": [
        "import matplotlib.pyplot as plt\n",
        "plt.plot(history.history['accuracy'])\n",
        "plt.plot(history.history['val_accuracy'])\n",
        "plt.title('Model Accuracy')\n",
        "plt.xlabel('accuracy')\n",
        "plt.ylabel('epoch')\n",
        "plt.legend(['Train','Validation'],loc='upper left')\n",
        "plt.show()"
      ],
      "metadata": {
        "colab": {
          "base_uri": "https://localhost:8080/",
          "height": 295
        },
        "id": "WQ9hPYyHbHv0",
        "outputId": "1857a138-358b-4ffa-efc4-a9edaca8d148"
      },
      "execution_count": null,
      "outputs": [
        {
          "output_type": "display_data",
          "data": {
            "text/plain": [
              "<Figure size 432x288 with 1 Axes>"
            ],
            "image/png": "[encoded data removed]"
          },
          "metadata": {
            "needs_background": "light"
          }
        }
      ]
    },
    {
      "cell_type": "code",
      "source": [
        "model_1.predict(x_test)"
      ],
      "metadata": {
        "colab": {
          "base_uri": "https://localhost:8080/"
        },
        "id": "tPcBWqY1bKO1",
        "outputId": "e49e05cf-fd30-4896-dab3-68e5c6dcd1d2"
      },
      "execution_count": null,
      "outputs": [
        {
          "output_type": "execute_result",
          "data": {
            "text/plain": [
              "array([[ 275.59607 ,  111.22991 , -352.64383 ],\n",
              "       [ 360.09628 ,  100.038   , -421.0445  ],\n",
              "       [  87.17614 ,   68.53786 , -121.211136],\n",
              "       ...,\n",
              "       [  88.12936 ,  129.77515 , -186.13173 ],\n",
              "       [ 113.16103 ,   59.283844, -140.23723 ],\n",
              "       [ 244.59325 ,  127.17422 , -339.07166 ]], dtype=float32)"
            ]
          },
          "metadata": {},
          "execution_count": 9
        }
      ]
    },
    {
      "cell_type": "code",
      "source": [
        "y_test"
      ],
      "metadata": {
        "colab": {
          "base_uri": "https://localhost:8080/",
          "height": 424
        },
        "id": "1cWo1A_FbMEl",
        "outputId": "1479b60e-d3f9-4768-ba4e-499f6638bc73"
      },
      "execution_count": null,
      "outputs": [
        {
          "output_type": "execute_result",
          "data": {
            "text/plain": [
              "        tt1  tt2  tt3\n",
              "186913  259  108 -337\n",
              "250218  347   94 -396\n",
              "57143    79   65  -84\n",
              "5645      7  151 -128\n",
              "169983  236   15 -191\n",
              "...     ...  ...  ...\n",
              "37697    52   64  -86\n",
              "21464    29  146 -175\n",
              "61734    85  133 -173\n",
              "75857   105   64 -139\n",
              "171151  237  127 -304\n",
              "\n",
              "[25920 rows x 3 columns]"
            ],
            "text/html": [
              "\n",
              "  <div id=\"df-45db55b8-08e4-4ea8-bb43-0b021b638227\">\n",
              "    <div class=\"colab-df-container\">\n",
              "      <div>\n",
              "<style scoped>\n",
              "    .dataframe tbody tr th:only-of-type {\n",
              "        vertical-align: middle;\n",
              "    }\n",
              "\n",
              "    .dataframe tbody tr th {\n",
              "        vertical-align: top;\n",
              "    }\n",
              "\n",
              "    .dataframe thead th {\n",
              "        text-align: right;\n",
              "    }\n",
              "</style>\n",
              "<table border=\"1\" class=\"dataframe\">\n",
              "  <thead>\n",
              "    <tr style=\"text-align: right;\">\n",
              "      <th></th>\n",
              "      <th>tt1</th>\n",
              "      <th>tt2</th>\n",
              "      <th>tt3</th>\n",
              "    </tr>\n",
              "  </thead>\n",
              "  <tbody>\n",
              "    <tr>\n",
              "      <th>186913</th>\n",
              "      <td>259</td>\n",
              "      <td>108</td>\n",
              "      <td>-337</td>\n",
              "    </tr>\n",
              "    <tr>\n",
              "      <th>250218</th>\n",
              "      <td>347</td>\n",
              "      <td>94</td>\n",
              "      <td>-396</td>\n",
              "    </tr>\n",
              "    <tr>\n",
              "      <th>57143</th>\n",
              "      <td>79</td>\n",
              "      <td>65</td>\n",
              "      <td>-84</td>\n",
              "    </tr>\n",
              "    <tr>\n",
              "      <th>5645</th>\n",
              "      <td>7</td>\n",
              "      <td>151</td>\n",
              "      <td>-128</td>\n",
              "    </tr>\n",
              "    <tr>\n",
              "      <th>169983</th>\n",
              "      <td>236</td>\n",
              "      <td>15</td>\n",
              "      <td>-191</td>\n",
              "    </tr>\n",
              "    <tr>\n",
              "      <th>...</th>\n",
              "      <td>...</td>\n",
              "      <td>...</td>\n",
              "      <td>...</td>\n",
              "    </tr>\n",
              "    <tr>\n",
              "      <th>37697</th>\n",
              "      <td>52</td>\n",
              "      <td>64</td>\n",
              "      <td>-86</td>\n",
              "    </tr>\n",
              "    <tr>\n",
              "      <th>21464</th>\n",
              "      <td>29</td>\n",
              "      <td>146</td>\n",
              "      <td>-175</td>\n",
              "    </tr>\n",
              "    <tr>\n",
              "      <th>61734</th>\n",
              "      <td>85</td>\n",
              "      <td>133</td>\n",
              "      <td>-173</td>\n",
              "    </tr>\n",
              "    <tr>\n",
              "      <th>75857</th>\n",
              "      <td>105</td>\n",
              "      <td>64</td>\n",
              "      <td>-139</td>\n",
              "    </tr>\n",
              "    <tr>\n",
              "      <th>171151</th>\n",
              "      <td>237</td>\n",
              "      <td>127</td>\n",
              "      <td>-304</td>\n",
              "    </tr>\n",
              "  </tbody>\n",
              "</table>\n",
              "<p>25920 rows × 3 columns</p>\n",
              "</div>\n",
              "      <button class=\"colab-df-convert\" onclick=\"convertToInteractive('df-45db55b8-08e4-4ea8-bb43-0b021b638227')\"\n",
              "              title=\"Convert this dataframe to an interactive table.\"\n",
              "              style=\"display:none;\">\n",
              "        \n",
              "  <svg xmlns=\"http://www.w3.org/2000/svg\" height=\"24px\"viewBox=\"0 0 24 24\"\n",
              "       width=\"24px\">\n",
              "    <path d=\"M0 0h24v24H0V0z\" fill=\"none\"/>\n",
              "    <path d=\"M18.56 5.44l.94 2.06.94-2.06 2.06-.94-2.06-.94-.94-2.06-.94 2.06-2.06.94zm-11 1L8.5 8.5l.94-2.06 2.06-.94-2.06-.94L8.5 2.5l-.94 2.06-2.06.94zm10 10l.94 2.06.94-2.06 2.06-.94-2.06-.94-.94-2.06-.94 2.06-2.06.94z\"/><path d=\"M17.41 7.96l-1.37-1.37c-.4-.4-.92-.59-1.43-.59-.52 0-1.04.2-1.43.59L10.3 9.45l-7.72 7.72c-.78.78-.78 2.05 0 2.83L4 21.41c.39.39.9.59 1.41.59.51 0 1.02-.2 1.41-.59l7.78-7.78 2.81-2.81c.8-.78.8-2.07 0-2.86zM5.41 20L4 18.59l7.72-7.72 1.47 1.35L5.41 20z\"/>\n",
              "  </svg>\n",
              "      </button>\n",
              "      \n",
              "  <style>\n",
              "    .colab-df-container {\n",
              "      display:flex;\n",
              "      flex-wrap:wrap;\n",
              "      gap: 12px;\n",
              "    }\n",
              "\n",
              "    .colab-df-convert {\n",
              "      background-color: #E8F0FE;\n",
              "      border: none;\n",
              "      border-radius: 50%;\n",
              "      cursor: pointer;\n",
              "      display: none;\n",
              "      fill: #1967D2;\n",
              "      height: 32px;\n",
              "      padding: 0 0 0 0;\n",
              "      width: 32px;\n",
              "    }\n",
              "\n",
              "    .colab-df-convert:hover {\n",
              "      background-color: #E2EBFA;\n",
              "      box-shadow: 0px 1px 2px rgba(60, 64, 67, 0.3), 0px 1px 3px 1px rgba(60, 64, 67, 0.15);\n",
              "      fill: #174EA6;\n",
              "    }\n",
              "\n",
              "    [theme=dark] .colab-df-convert {\n",
              "      background-color: #3B4455;\n",
              "      fill: #D2E3FC;\n",
              "    }\n",
              "\n",
              "    [theme=dark] .colab-df-convert:hover {\n",
              "      background-color: #434B5C;\n",
              "      box-shadow: 0px 1px 3px 1px rgba(0, 0, 0, 0.15);\n",
              "      filter: drop-shadow(0px 1px 2px rgba(0, 0, 0, 0.3));\n",
              "      fill: #FFFFFF;\n",
              "    }\n",
              "  </style>\n",
              "\n",
              "      <script>\n",
              "        const buttonEl =\n",
              "          document.querySelector('#df-45db55b8-08e4-4ea8-bb43-0b021b638227 button.colab-df-convert');\n",
              "        buttonEl.style.display =\n",
              "          google.colab.kernel.accessAllowed ? 'block' : 'none';\n",
              "\n",
              "        async function convertToInteractive(key) {\n",
              "          const element = document.querySelector('#df-45db55b8-08e4-4ea8-bb43-0b021b638227');\n",
              "          const dataTable =\n",
              "            await google.colab.kernel.invokeFunction('convertToInteractive',\n",
              "                                                     [key], {});\n",
              "          if (!dataTable) return;\n",
              "\n",
              "          const docLinkHtml = 'Like what you see? Visit the ' +\n",
              "            '<a target=\"_blank\" href=https://colab.research.google.com/notebooks/data_table.ipynb>data table notebook</a>'\n",
              "            + ' to learn more about interactive tables.';\n",
              "          element.innerHTML = '';\n",
              "          dataTable['output_type'] = 'display_data';\n",
              "          await google.colab.output.renderOutput(dataTable, element);\n",
              "          const docLink = document.createElement('div');\n",
              "          docLink.innerHTML = docLinkHtml;\n",
              "          element.appendChild(docLink);\n",
              "        }\n",
              "      </script>\n",
              "    </div>\n",
              "  </div>\n",
              "  "
            ]
          },
          "metadata": {},
          "execution_count": 10
        }
      ]
    }
  ]
}