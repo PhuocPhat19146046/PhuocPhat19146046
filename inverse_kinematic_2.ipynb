{
  "nbformat": 4,
  "nbformat_minor": 0,
  "metadata": {
    "colab": {
      "name": "inverse_kinematic_2.ipynb",
      "provenance": [],
      "mount_file_id": "1y6-o1r7TDYwSnAk-F2Fkum3ZXDVRUAPA",
      "authorship_tag": "ABX9TyN5X/YhYwC5i/p/z7qIsYRV",
      "include_colab_link": true
    },
    "kernelspec": {
      "name": "python3",
      "display_name": "Python 3"
    },
    "language_info": {
      "name": "python"
    }
  },
  "cells": [
    {
      "cell_type": "markdown",
      "metadata": {
        "id": "view-in-github",
        "colab_type": "text"
      },
      "source": [
        "<a href=\"https://colab.research.google.com/github/PhuocPhat19146046/PhuocPhat19146046/blob/main/inverse_kinematic_2.ipynb\" target=\"_parent\"><img src=\"https://colab.research.google.com/assets/colab-badge.svg\" alt=\"Open In Colab\"/></a>"
      ]
    },
    {
      "cell_type": "code",
      "execution_count": null,
      "metadata": {
        "id": "yevG1aEug7YT"
      },
      "outputs": [],
      "source": [
        "import numpy as np\n",
        "import pandas as pd\n",
        "pxy=[]\n",
        "angle=[]\n",
        "for i in range(0,360,1):\n",
        "  for j in range(0,180,1):\n",
        "    pxy.append([50*np.cos(i*np.pi/180)+40*np.cos((i+j)*np.pi/180),\n",
        "              50*np.sin(i*np.pi/180)+40*np.sin((i+j)*np.pi/180)])\n",
        "    angle.append([i,j])\n",
        "x = pd.DataFrame(np.c_[pxy],columns=['Px','Py'])\n",
        "y = pd.DataFrame(np.c_[angle],columns=['tt1','tt2'])    \n",
        "from sklearn.model_selection import train_test_split\n",
        "x_train,x_test,y_train,y_test=train_test_split(x,y,test_size=0.1,shuffle=True)"
      ]
    },
    {
      "cell_type": "code",
      "source": [
        "from tensorflow.keras.optimizers import  SGD\n",
        "from keras.models import Sequential\n",
        "from keras.layers import Dense, Activation, Dropout, BatchNormalization, LSTM\n",
        "from tensorflow.keras.optimizers import RMSprop\n",
        "model = Sequential()\n",
        "model.add(Dense(512,kernel_initializer='normal',activation='relu',input_shape=(2,)))\n",
        "model.add(Dense(256,kernel_initializer='normal',activation='relu'))\n",
        "model.add(Dense(2))\n",
        "model.compile(optimizer=RMSprop(),loss='mse',metrics=['accuracy'])\n",
        "history = model.fit(x_train,y_train,batch_size=128,epochs=10,verbose=1,validation_split=0.2)"
      ],
      "metadata": {
        "colab": {
          "base_uri": "https://localhost:8080/"
        },
        "id": "O6UmGsF7qKUU",
        "outputId": "97dabea0-d29a-4902-fb01-17a83dde88ba"
      },
      "execution_count": null,
      "outputs": [
        {
          "output_type": "stream",
          "name": "stdout",
          "text": [
            "Epoch 1/10\n",
            "365/365 [==============================] - 4s 8ms/step - loss: 6915.7715 - accuracy: 0.8010 - val_loss: 3304.8193 - val_accuracy: 0.8650\n",
            "Epoch 2/10\n",
            "365/365 [==============================] - 3s 7ms/step - loss: 2021.1606 - accuracy: 0.9014 - val_loss: 2616.6348 - val_accuracy: 0.9306\n",
            "Epoch 3/10\n",
            "365/365 [==============================] - 2s 7ms/step - loss: 1489.5471 - accuracy: 0.9241 - val_loss: 1243.2983 - val_accuracy: 0.9346\n",
            "Epoch 4/10\n",
            "365/365 [==============================] - 3s 7ms/step - loss: 1304.7273 - accuracy: 0.9259 - val_loss: 998.9150 - val_accuracy: 0.9334\n",
            "Epoch 5/10\n",
            "365/365 [==============================] - 3s 7ms/step - loss: 1176.8402 - accuracy: 0.9302 - val_loss: 1201.7581 - val_accuracy: 0.9275\n",
            "Epoch 6/10\n",
            "365/365 [==============================] - 2s 7ms/step - loss: 1078.2472 - accuracy: 0.9349 - val_loss: 2263.1235 - val_accuracy: 0.9194\n",
            "Epoch 7/10\n",
            "365/365 [==============================] - 3s 7ms/step - loss: 1004.0262 - accuracy: 0.9344 - val_loss: 780.0707 - val_accuracy: 0.9406\n",
            "Epoch 8/10\n",
            "365/365 [==============================] - 2s 7ms/step - loss: 949.1739 - accuracy: 0.9374 - val_loss: 800.6678 - val_accuracy: 0.9566\n",
            "Epoch 9/10\n",
            "365/365 [==============================] - 3s 7ms/step - loss: 904.4339 - accuracy: 0.9388 - val_loss: 701.7374 - val_accuracy: 0.9491\n",
            "Epoch 10/10\n",
            "365/365 [==============================] - 3s 7ms/step - loss: 859.5974 - accuracy: 0.9421 - val_loss: 717.2530 - val_accuracy: 0.9303\n"
          ]
        }
      ]
    },
    {
      "cell_type": "code",
      "source": [
        "model.save('drive/MyDrive/Colab Notebooks/model/inverse_2.h5')"
      ],
      "metadata": {
        "id": "_xWqURi5ScuH"
      },
      "execution_count": null,
      "outputs": []
    },
    {
      "cell_type": "code",
      "source": [
        "from tensorflow.keras.models import load_model\n",
        "model_1=load_model('drive/MyDrive/Colab Notebooks/model/inverse_2.h5')"
      ],
      "metadata": {
        "id": "4koW5h29SjhP"
      },
      "execution_count": null,
      "outputs": []
    },
    {
      "cell_type": "code",
      "source": [
        "import matplotlib.pyplot as plt\n",
        "plt.plot(history.history['accuracy'])\n",
        "plt.plot(history.history['val_accuracy'])\n",
        "plt.title('Model Accuracy')\n",
        "plt.xlabel('accuracy')\n",
        "plt.ylabel('epoch')\n",
        "plt.legend(['Train','Validation'],loc='upper left')\n",
        "plt.show()"
      ],
      "metadata": {
        "colab": {
          "base_uri": "https://localhost:8080/",
          "height": 295
        },
        "id": "BPcKqXyWKKTQ",
        "outputId": "b31d1178-e7fe-45a1-e6b0-32590de3e7f4"
      },
      "execution_count": null,
      "outputs": [
        {
          "output_type": "display_data",
          "data": {
            "text/plain": [
              "<Figure size 432x288 with 1 Axes>"
            ],
            "image/png": "[encoded data removed]"
          },
          "metadata": {
            "needs_background": "light"
          }
        }
      ]
    },
    {
      "cell_type": "code",
      "source": [
        "model_1.predict(x_test)"
      ],
      "metadata": {
        "colab": {
          "base_uri": "https://localhost:8080/"
        },
        "id": "FLJx9sudEmiX",
        "outputId": "bf25943d-53dc-4e41-df2c-63e8a9372519"
      },
      "execution_count": null,
      "outputs": [
        {
          "output_type": "execute_result",
          "data": {
            "text/plain": [
              "array([[217.87036 ,  94.280205],\n",
              "       [216.43306 ,  44.867943],\n",
              "       [302.74475 ,  24.262793],\n",
              "       ...,\n",
              "       [326.60428 , 150.92598 ],\n",
              "       [236.04971 ,  38.67199 ],\n",
              "       [177.77779 ,  46.34661 ]], dtype=float32)"
            ]
          },
          "metadata": {},
          "execution_count": 8
        }
      ]
    },
    {
      "cell_type": "code",
      "source": [
        "y_test"
      ],
      "metadata": {
        "colab": {
          "base_uri": "https://localhost:8080/",
          "height": 424
        },
        "id": "SgUOZkULTeCh",
        "outputId": "64e55093-4257-4320-8f49-ea0efcdd245c"
      },
      "execution_count": null,
      "outputs": [
        {
          "output_type": "execute_result",
          "data": {
            "text/plain": [
              "       tt1  tt2\n",
              "40053  222   93\n",
              "62883  349   63\n",
              "55475  308   35\n",
              "46652  259   32\n",
              "4464    24  144\n",
              "...    ...  ...\n",
              "26661  148   21\n",
              "39251  218   11\n",
              "57211  317  151\n",
              "43219  240   19\n",
              "36012  200   12\n",
              "\n",
              "[6480 rows x 2 columns]"
            ],
            "text/html": [
              "\n",
              "  <div id=\"df-27b47cd5-2d0b-4fae-b9bb-d439a5562c6d\">\n",
              "    <div class=\"colab-df-container\">\n",
              "      <div>\n",
              "<style scoped>\n",
              "    .dataframe tbody tr th:only-of-type {\n",
              "        vertical-align: middle;\n",
              "    }\n",
              "\n",
              "    .dataframe tbody tr th {\n",
              "        vertical-align: top;\n",
              "    }\n",
              "\n",
              "    .dataframe thead th {\n",
              "        text-align: right;\n",
              "    }\n",
              "</style>\n",
              "<table border=\"1\" class=\"dataframe\">\n",
              "  <thead>\n",
              "    <tr style=\"text-align: right;\">\n",
              "      <th></th>\n",
              "      <th>tt1</th>\n",
              "      <th>tt2</th>\n",
              "    </tr>\n",
              "  </thead>\n",
              "  <tbody>\n",
              "    <tr>\n",
              "      <th>40053</th>\n",
              "      <td>222</td>\n",
              "      <td>93</td>\n",
              "    </tr>\n",
              "    <tr>\n",
              "      <th>62883</th>\n",
              "      <td>349</td>\n",
              "      <td>63</td>\n",
              "    </tr>\n",
              "    <tr>\n",
              "      <th>55475</th>\n",
              "      <td>308</td>\n",
              "      <td>35</td>\n",
              "    </tr>\n",
              "    <tr>\n",
              "      <th>46652</th>\n",
              "      <td>259</td>\n",
              "      <td>32</td>\n",
              "    </tr>\n",
              "    <tr>\n",
              "      <th>4464</th>\n",
              "      <td>24</td>\n",
              "      <td>144</td>\n",
              "    </tr>\n",
              "    <tr>\n",
              "      <th>...</th>\n",
              "      <td>...</td>\n",
              "      <td>...</td>\n",
              "    </tr>\n",
              "    <tr>\n",
              "      <th>26661</th>\n",
              "      <td>148</td>\n",
              "      <td>21</td>\n",
              "    </tr>\n",
              "    <tr>\n",
              "      <th>39251</th>\n",
              "      <td>218</td>\n",
              "      <td>11</td>\n",
              "    </tr>\n",
              "    <tr>\n",
              "      <th>57211</th>\n",
              "      <td>317</td>\n",
              "      <td>151</td>\n",
              "    </tr>\n",
              "    <tr>\n",
              "      <th>43219</th>\n",
              "      <td>240</td>\n",
              "      <td>19</td>\n",
              "    </tr>\n",
              "    <tr>\n",
              "      <th>36012</th>\n",
              "      <td>200</td>\n",
              "      <td>12</td>\n",
              "    </tr>\n",
              "  </tbody>\n",
              "</table>\n",
              "<p>6480 rows × 2 columns</p>\n",
              "</div>\n",
              "      <button class=\"colab-df-convert\" onclick=\"convertToInteractive('df-27b47cd5-2d0b-4fae-b9bb-d439a5562c6d')\"\n",
              "              title=\"Convert this dataframe to an interactive table.\"\n",
              "              style=\"display:none;\">\n",
              "        \n",
              "  <svg xmlns=\"http://www.w3.org/2000/svg\" height=\"24px\"viewBox=\"0 0 24 24\"\n",
              "       width=\"24px\">\n",
              "    <path d=\"M0 0h24v24H0V0z\" fill=\"none\"/>\n",
              "    <path d=\"M18.56 5.44l.94 2.06.94-2.06 2.06-.94-2.06-.94-.94-2.06-.94 2.06-2.06.94zm-11 1L8.5 8.5l.94-2.06 2.06-.94-2.06-.94L8.5 2.5l-.94 2.06-2.06.94zm10 10l.94 2.06.94-2.06 2.06-.94-2.06-.94-.94-2.06-.94 2.06-2.06.94z\"/><path d=\"M17.41 7.96l-1.37-1.37c-.4-.4-.92-.59-1.43-.59-.52 0-1.04.2-1.43.59L10.3 9.45l-7.72 7.72c-.78.78-.78 2.05 0 2.83L4 21.41c.39.39.9.59 1.41.59.51 0 1.02-.2 1.41-.59l7.78-7.78 2.81-2.81c.8-.78.8-2.07 0-2.86zM5.41 20L4 18.59l7.72-7.72 1.47 1.35L5.41 20z\"/>\n",
              "  </svg>\n",
              "      </button>\n",
              "      \n",
              "  <style>\n",
              "    .colab-df-container {\n",
              "      display:flex;\n",
              "      flex-wrap:wrap;\n",
              "      gap: 12px;\n",
              "    }\n",
              "\n",
              "    .colab-df-convert {\n",
              "      background-color: #E8F0FE;\n",
              "      border: none;\n",
              "      border-radius: 50%;\n",
              "      cursor: pointer;\n",
              "      display: none;\n",
              "      fill: #1967D2;\n",
              "      height: 32px;\n",
              "      padding: 0 0 0 0;\n",
              "      width: 32px;\n",
              "    }\n",
              "\n",
              "    .colab-df-convert:hover {\n",
              "      background-color: #E2EBFA;\n",
              "      box-shadow: 0px 1px 2px rgba(60, 64, 67, 0.3), 0px 1px 3px 1px rgba(60, 64, 67, 0.15);\n",
              "      fill: #174EA6;\n",
              "    }\n",
              "\n",
              "    [theme=dark] .colab-df-convert {\n",
              "      background-color: #3B4455;\n",
              "      fill: #D2E3FC;\n",
              "    }\n",
              "\n",
              "    [theme=dark] .colab-df-convert:hover {\n",
              "      background-color: #434B5C;\n",
              "      box-shadow: 0px 1px 3px 1px rgba(0, 0, 0, 0.15);\n",
              "      filter: drop-shadow(0px 1px 2px rgba(0, 0, 0, 0.3));\n",
              "      fill: #FFFFFF;\n",
              "    }\n",
              "  </style>\n",
              "\n",
              "      <script>\n",
              "        const buttonEl =\n",
              "          document.querySelector('#df-27b47cd5-2d0b-4fae-b9bb-d439a5562c6d button.colab-df-convert');\n",
              "        buttonEl.style.display =\n",
              "          google.colab.kernel.accessAllowed ? 'block' : 'none';\n",
              "\n",
              "        async function convertToInteractive(key) {\n",
              "          const element = document.querySelector('#df-27b47cd5-2d0b-4fae-b9bb-d439a5562c6d');\n",
              "          const dataTable =\n",
              "            await google.colab.kernel.invokeFunction('convertToInteractive',\n",
              "                                                     [key], {});\n",
              "          if (!dataTable) return;\n",
              "\n",
              "          const docLinkHtml = 'Like what you see? Visit the ' +\n",
              "            '<a target=\"_blank\" href=https://colab.research.google.com/notebooks/data_table.ipynb>data table notebook</a>'\n",
              "            + ' to learn more about interactive tables.';\n",
              "          element.innerHTML = '';\n",
              "          dataTable['output_type'] = 'display_data';\n",
              "          await google.colab.output.renderOutput(dataTable, element);\n",
              "          const docLink = document.createElement('div');\n",
              "          docLink.innerHTML = docLinkHtml;\n",
              "          element.appendChild(docLink);\n",
              "        }\n",
              "      </script>\n",
              "    </div>\n",
              "  </div>\n",
              "  "
            ]
          },
          "metadata": {},
          "execution_count": 9
        }
      ]
    },
    {
      "cell_type": "code",
      "source": [
        ""
      ],
      "metadata": {
        "id": "z5b8BbBOT-2A"
      },
      "execution_count": null,
      "outputs": []
    }
  ]
}